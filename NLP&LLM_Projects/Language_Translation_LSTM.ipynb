{
 "cells": [
  {
   "cell_type": "markdown",
   "metadata": {
    "id": "qlOkgMUVn8xU"
   },
   "source": [
    "# **Machine translation based on LSTM**"
   ]
  },
  {
   "cell_type": "markdown",
   "metadata": {
    "id": "uiafIOQqhROs"
   },
   "source": [
    "## **Context**\n",
    "Machine translation (MT) is the process of translating text in one language to another language with the use of software by incorporating both computational and linguistic knowledge.<br></br>  NMT is a recently formulated method for automatic translation with the help of deep neural networks.  NMT uses a single large neural network for training. This structure comprised of encoder and decoder networks where the encoder consumes the input sentences to produce a vector representation, and the decoder takes this vector and outputs the target language words.Generally, both encoder and decoder networks are designed using the recurrent neural networks (RNN) or long short-term memory (LSTM) or gated recurrent unit (GRU) or bidirectional RNN, which are the alternatives to RNN. Even though RNN, especially LSTM, is theoretically proven for handling long-term dependencies in the sentences<br></br>\n",
    "Here, in this case study we use a simple RNN model combined with lstm nodes for our translation task."
   ]
  },
  {
   "cell_type": "markdown",
   "metadata": {
    "id": "S0j-El_oiqyA"
   },
   "source": [
    "## **Downloading the Required Libraries**"
   ]
  },
  {
   "cell_type": "code",
   "execution_count": 2,
   "metadata": {
    "id": "9o_Oh8hqXhtb"
   },
   "outputs": [],
   "source": [
    "import numpy as np # Importing the NumPy library for numerical computations.\n",
    "\n",
    "import tensorflow as tf # Importing the TensorFlow library for machine learning.\n",
    "\n",
    "from tensorflow import keras # Importing the Keras module from TensorFlow.\n",
    "\n",
    "from tensorflow.keras.layers import Input # Importing the Input layer from Keras.\n",
    "\n",
    "from tensorflow.keras import Model # Importing the Model class from Keras."
   ]
  },
  {
   "cell_type": "markdown",
   "metadata": {
    "id": "WtknTPTfiztn"
   },
   "source": [
    "## **Downloading the Required Dataset**"
   ]
  },
  {
   "cell_type": "code",
   "execution_count": 3,
   "metadata": {
    "colab": {
     "base_uri": "https://localhost:8080/"
    },
    "id": "WER-LjulXk5q",
    "outputId": "dfafd7e8-cbc8-4ce5-9c30-fb96818bdca8"
   },
   "outputs": [
    {
     "data": {
      "text/plain": [
       "['Archive:  fra-eng.zip',\n",
       " '  inflating: _about.txt              ',\n",
       " '  inflating: fra.txt                 ']"
      ]
     },
     "execution_count": 3,
     "metadata": {},
     "output_type": "execute_result"
    }
   ],
   "source": [
    "!!curl -O http://www.manythings.org/anki/fra-eng.zip\n",
    "!!unzip fra-eng.zip"
   ]
  },
  {
   "cell_type": "markdown",
   "metadata": {
    "id": "kGeHUB8T8Mkk"
   },
   "source": [
    "- !!curl -O http://www.manythings.org/anki/fra-eng.zip: This command uses curl to download a file from the specified URL (http://www.manythings.org/anki/fra-eng.zip). The -O flag tells curl to save the downloaded file with the same name as the source file.\n",
    "\n",
    "- !!unzip fra-eng.zip: This command uses unzip to extract the contents of the fra-eng.zip file. unzip is a utility for extracting files from a ZIP archive. It takes the name of the ZIP file as an argument.\n",
    "\n"
   ]
  },
  {
   "cell_type": "markdown",
   "metadata": {
    "id": "PRjiv4XIkpfT"
   },
   "source": [
    "## **Setting Up Hyperparameters**"
   ]
  },
  {
   "cell_type": "code",
   "execution_count": 4,
   "metadata": {
    "id": "e5D-PyfAXv8W"
   },
   "outputs": [],
   "source": [
    "batch_size = 64  # Batch size for training.\n",
    "epochs = 100  # Number of epochs to train for.\n",
    "latent_dim = 256  # Latent dimensionality of the encoding space.\n",
    "num_samples = 10000  # Number of samples to train on.\n",
    "# Path to the data txt file on disk.\n",
    "data_path = \"fra.txt\""
   ]
  },
  {
   "cell_type": "code",
   "execution_count": 5,
   "metadata": {
    "id": "cHbjCFHKXyCT"
   },
   "outputs": [],
   "source": [
    "# Vectorizing the data and storing them in lists\n",
    "input_texts = []\n",
    "target_texts = []\n",
    "'''input_texts and target_texts are empty lists that will store the input and target texts, respectively.'''\n",
    "\n",
    "# Sets for Creating vocabulary of Input Characters\n",
    "input_characters = set()\n",
    "target_characters = set()\n",
    "\n",
    "\n",
    "'''input_characters and target_characters are sets that will be used to create the vocabulary of unique characters present in the input and target texts, respectively.'''\n",
    "\n",
    "\n",
    "# Reading File with utf-8 encoding\n",
    "with open(data_path, \"r\", encoding=\"utf-8\") as f:\n",
    "    lines = f.read().split(\"\\n\")  ##returns a list of lines\n",
    "\n",
    "\n",
    "'''  opens the file specified by the data_path variable using the open() function, with the encoding set to \"utf-8\"'''\n",
    "\n",
    "\n",
    "# Separating input and target texts and storing themin different lists.\n",
    "for line in lines[: min(num_samples, len(lines) - 1)]:\n",
    "    input_text, target_text, _ = line.split(\"\\t\")\n",
    "    # We use \"tab\" as the \"start sequence\" character\n",
    "    # for the targets, and \"\\n\" as \"end sequence\" character.\n",
    "    target_text = \"\\t\" + target_text + \"\\n\"\n",
    "    input_texts.append(input_text)\n",
    "    target_texts.append(target_text)\n",
    "\n",
    "    # Adding Unique Characters to the Input Characters array to create vocabulary\n",
    "    for char in input_text:\n",
    "        if char not in input_characters:\n",
    "            input_characters.add(char)\n",
    "    for char in target_text:\n",
    "        if char not in target_characters:\n",
    "            target_characters.add(char)"
   ]
  },
  {
   "cell_type": "markdown",
   "metadata": {
    "id": "zyLpWL0V8yCI"
   },
   "source": [
    "The overall purpose of the above code is to read a text file, extract the input and target texts, and create sets of unique characters present in the input and target texts for further processing or creating a vocabulary."
   ]
  },
  {
   "cell_type": "markdown",
   "metadata": {
    "id": "ntN_3jK_9NRV"
   },
   "source": [
    "###  Check the Dataset"
   ]
  },
  {
   "cell_type": "code",
   "execution_count": 6,
   "metadata": {
    "colab": {
     "base_uri": "https://localhost:8080/"
    },
    "id": "EWhu7YRhX3_R",
    "outputId": "ff2aab66-4a00-43e2-95c9-7f04048ce510"
   },
   "outputs": [
    {
     "name": "stdout",
     "output_type": "stream",
     "text": [
      "Number of samples: 10000\n",
      "Number of unique input tokens: 70\n",
      "Number of unique output tokens: 93\n",
      "Max sequence length for inputs: 14\n",
      "Max sequence length for outputs: 59\n"
     ]
    }
   ],
   "source": [
    "input_characters = sorted(list(input_characters))\n",
    "target_characters = sorted(list(target_characters))\n",
    "num_encoder_tokens = len(input_characters)\n",
    "num_decoder_tokens = len(target_characters)\n",
    "max_encoder_seq_length = max([len(txt) for txt in input_texts])\n",
    "max_decoder_seq_length = max([len(txt) for txt in target_texts])\n",
    "\n",
    "print(\"Number of samples:\", len(input_texts))\n",
    "print(\"Number of unique input tokens:\", num_encoder_tokens)\n",
    "print(\"Number of unique output tokens:\", num_decoder_tokens)\n",
    "print(\"Max sequence length for inputs:\", max_encoder_seq_length)\n",
    "print(\"Max sequence length for outputs:\", max_decoder_seq_length)"
   ]
  },
  {
   "cell_type": "markdown",
   "metadata": {
    "id": "q3ChQggrkySu"
   },
   "source": [
    "## **Tokenizing and Vectorizing the Text**\n",
    "\n",
    "Here we are building a Character level translation tool. So each token of our Input text shall be a character and each token of the target text will be a French character. We therefore convert the input data into a three dimensional array. The first dimension consists of number of English to French pairs, the second dimension consists of the length of each sentence. ( Here, we are taking the length of each sentence to be the length of the longest sentence in each of these languages, and for sentences whose lengths are smaller than the highest length, we are padding them with the ' ' token or a blank space token). The third dimension has a length equal to number of unique characters in that particular language, as this vector is a one-hot encoded vector for English and French alphabets."
   ]
  },
  {
   "cell_type": "code",
   "execution_count": 7,
   "metadata": {
    "id": "-nED5H4uht8C"
   },
   "outputs": [],
   "source": [
    "# Creating array of zeros with mentioned shape \n",
    "input_token_index = dict([(char, i) for i, char in enumerate(input_characters)])\n",
    "target_token_index = dict([(char, i) for i, char in enumerate(target_characters)])\n",
    "\n",
    "encoder_input_data = np.zeros(\n",
    "    (len(input_texts), max_encoder_seq_length, num_encoder_tokens), dtype=\"float32\"\n",
    ")\n",
    "decoder_input_data = np.zeros(\n",
    "    (len(input_texts), max_decoder_seq_length, num_decoder_tokens), dtype=\"float32\"\n",
    ")\n",
    "decoder_target_data = np.zeros(\n",
    "    (len(input_texts), max_decoder_seq_length, num_decoder_tokens), dtype=\"float32\"\n",
    ")\n",
    "\n",
    "\n",
    "\n",
    "# Populating the arrays \n",
    "for i, (input_text, target_text) in enumerate(zip(input_texts, target_texts)):\n",
    "    for t, char in enumerate(input_text):\n",
    "        encoder_input_data[i, t, input_token_index[char]] = 1.0\n",
    "    encoder_input_data[i, t + 1 :, input_token_index[\" \"]] = 1.0 # From (t + 1)th time step, all characters are padded with a blank space character\n",
    "    for t, char in enumerate(target_text):\n",
    "        # decoder_target_data is ahead of decoder_input_data by one timestep\n",
    "        decoder_input_data[i, t, target_token_index[char]] = 1.0\n",
    "        if t > 0:\n",
    "            # decoder_target_data will be ahead by one timestep\n",
    "            # and will not include the start character.\n",
    "            decoder_target_data[i, t - 1, target_token_index[char]] = 1.0\n",
    "    decoder_input_data[i, t + 1 :, target_token_index[\" \"]] = 1.0\n",
    "    decoder_target_data[i, t:, target_token_index[\" \"]] = 1.0"
   ]
  },
  {
   "cell_type": "markdown",
   "metadata": {
    "id": "CHDtongX90D0"
   },
   "source": [
    "The Above code snippet is responsible for creating arrays with zeros and populating them with encoded data for training a sequence-to-sequence model. Here's a breakdown of what's happening:\n",
    "\n",
    "The dictionaries input_token_index and target_token_index are created, which map characters to their respective index values.\n",
    "Arrays encoder_input_data, decoder_input_data, and decoder_target_data are initialized with zeros. These arrays will hold the encoded data.\n",
    "The arrays are populated by iterating over the input and target texts. For each character in the text, the corresponding index is set to 1.0 in the appropriate array.\n",
    "Padding is applied by filling the remaining time steps with 1.0 for blank space characters. This ensures that all sequences have the same length."
   ]
  },
  {
   "cell_type": "markdown",
   "metadata": {
    "id": "nUnKmDnAl7Jp"
   },
   "source": [
    "## **Encoder and Decoder Architecture**\n",
    "\n",
    "The Architecture has two units, the Encoder LSTM blocks and the Decoder LSTM blocks. \n",
    "\n",
    "Theoretically in a Sequence to Sequence architecture, the output of the Decoder at one time step is used as an input for the next decoder time step. But during training, we are using the Ground Truth value for the input to the next decoder time step, so that our model learns better. This is called Teacher forcing.\n",
    "\n",
    "We shall however change this in the inference or the testing stage, where we shall use the more traditional method of using the output of previous decoder time step as the current input to predict the output character."
   ]
  },
  {
   "cell_type": "markdown",
   "metadata": {
    "id": "v31VewsonBlv"
   },
   "source": [
    "## **Building the Model**"
   ]
  },
  {
   "cell_type": "code",
   "execution_count": 8,
   "metadata": {
    "id": "gcQCgVaZX9-r"
   },
   "outputs": [],
   "source": [
    "# Define an input sequence and process it.\n",
    "encoder_inputs = keras.Input(shape=(None, num_encoder_tokens))\n",
    "encoder = keras.layers.LSTM(latent_dim, return_state=True)\n",
    "encoder_outputs, state_h, state_c = encoder(encoder_inputs)\n",
    "\n",
    "# We discard `encoder_outputs` and only keep the states.\n",
    "encoder_states = [state_h, state_c]\n",
    "\n",
    "# Set up the decoder, using `encoder_states` as initial state.\n",
    "decoder_inputs = keras.Input(shape=(None, num_decoder_tokens))\n",
    "\n",
    "# We set up our decoder to return full output sequences,\n",
    "# and to return internal states as well. We don't use the\n",
    "# return states in the training model, but we will use them in inference.\n",
    "decoder_lstm = keras.layers.LSTM(latent_dim, return_sequences=True, return_state=True)\n",
    "decoder_outputs, _, _ = decoder_lstm(decoder_inputs, initial_state=encoder_states)\n",
    "decoder_dense = keras.layers.Dense(num_decoder_tokens, activation=\"softmax\")\n",
    "decoder_outputs = decoder_dense(decoder_outputs)\n",
    "\n",
    "# Define the model that will turn\n",
    "# `encoder_input_data` & `decoder_input_data` into `decoder_target_data`\n",
    "model = keras.Model([encoder_inputs, decoder_inputs], decoder_outputs)\n"
   ]
  },
  {
   "cell_type": "code",
   "execution_count": 9,
   "metadata": {
    "colab": {
     "base_uri": "https://localhost:8080/",
     "height": 422
    },
    "id": "lhce6EbAq4sY",
    "outputId": "9a5db5b6-cefb-41fe-ef7b-d42a60cdffc3"
   },
   "outputs": [
    {
     "data": {
      "image/png": "[encoded data removed]",
      "text/plain": [
       "<IPython.core.display.Image object>"
      ]
     },
     "execution_count": 9,
     "metadata": {},
     "output_type": "execute_result"
    }
   ],
   "source": [
    " # plotting the model architecture\n",
    "from tensorflow.keras.utils import plot_model\n",
    "plot_model(model, to_file='model.png', show_shapes=True)"
   ]
  },
  {
   "cell_type": "markdown",
   "metadata": {
    "id": "rSKRDE_NnGfn"
   },
   "source": [
    "## **Training the Model**"
   ]
  },
  {
   "cell_type": "code",
   "execution_count": 10,
   "metadata": {
    "colab": {
     "base_uri": "https://localhost:8080/"
    },
    "id": "3V2Z8cfeYHcF",
    "outputId": "0bed0da3-b8de-476f-af06-b4c5c12f7723"
   },
   "outputs": [
    {
     "name": "stdout",
     "output_type": "stream",
     "text": [
      "Epoch 1/100\n",
      "125/125 [==============================] - 11s 24ms/step - loss: 1.2121 - accuracy: 0.7318 - val_loss: 1.1571 - val_accuracy: 0.7133\n",
      "Epoch 2/100\n",
      "125/125 [==============================] - 1s 11ms/step - loss: 0.9339 - accuracy: 0.7483 - val_loss: 0.9606 - val_accuracy: 0.7293\n",
      "Epoch 3/100\n",
      "125/125 [==============================] - 1s 11ms/step - loss: 0.8392 - accuracy: 0.7673 - val_loss: 0.8685 - val_accuracy: 0.7514\n",
      "Epoch 4/100\n",
      "125/125 [==============================] - 1s 11ms/step - loss: 0.7476 - accuracy: 0.7909 - val_loss: 0.7823 - val_accuracy: 0.7746\n",
      "Epoch 5/100\n",
      "125/125 [==============================] - 1s 12ms/step - loss: 0.6729 - accuracy: 0.8067 - val_loss: 0.7228 - val_accuracy: 0.7920\n",
      "Epoch 6/100\n",
      "125/125 [==============================] - 1s 11ms/step - loss: 0.6313 - accuracy: 0.8164 - val_loss: 0.6916 - val_accuracy: 0.7999\n",
      "Epoch 7/100\n",
      "125/125 [==============================] - 1s 11ms/step - loss: 0.6016 - accuracy: 0.8232 - val_loss: 0.6605 - val_accuracy: 0.8061\n",
      "Epoch 8/100\n",
      "125/125 [==============================] - 1s 12ms/step - loss: 0.5793 - accuracy: 0.8292 - val_loss: 0.6432 - val_accuracy: 0.8113\n",
      "Epoch 9/100\n",
      "125/125 [==============================] - 2s 14ms/step - loss: 0.5595 - accuracy: 0.8349 - val_loss: 0.6171 - val_accuracy: 0.8186\n",
      "Epoch 10/100\n",
      "125/125 [==============================] - 2s 12ms/step - loss: 0.5414 - accuracy: 0.8404 - val_loss: 0.5946 - val_accuracy: 0.8293\n",
      "Epoch 11/100\n",
      "125/125 [==============================] - 1s 11ms/step - loss: 0.5249 - accuracy: 0.8458 - val_loss: 0.5862 - val_accuracy: 0.8304\n",
      "Epoch 12/100\n",
      "125/125 [==============================] - 1s 12ms/step - loss: 0.5130 - accuracy: 0.8492 - val_loss: 0.5693 - val_accuracy: 0.8353\n",
      "Epoch 13/100\n",
      "125/125 [==============================] - 1s 12ms/step - loss: 0.4981 - accuracy: 0.8538 - val_loss: 0.5553 - val_accuracy: 0.8388\n",
      "Epoch 14/100\n",
      "125/125 [==============================] - 1s 12ms/step - loss: 0.4852 - accuracy: 0.8575 - val_loss: 0.5481 - val_accuracy: 0.8395\n",
      "Epoch 15/100\n",
      "125/125 [==============================] - 1s 12ms/step - loss: 0.4736 - accuracy: 0.8605 - val_loss: 0.5581 - val_accuracy: 0.8348\n",
      "Epoch 16/100\n",
      "125/125 [==============================] - 1s 11ms/step - loss: 0.4633 - accuracy: 0.8631 - val_loss: 0.5259 - val_accuracy: 0.8469\n",
      "Epoch 17/100\n",
      "125/125 [==============================] - 2s 14ms/step - loss: 0.4543 - accuracy: 0.8657 - val_loss: 0.5122 - val_accuracy: 0.8506\n",
      "Epoch 18/100\n",
      "125/125 [==============================] - 2s 12ms/step - loss: 0.4437 - accuracy: 0.8684 - val_loss: 0.5032 - val_accuracy: 0.8532\n",
      "Epoch 19/100\n",
      "125/125 [==============================] - 1s 11ms/step - loss: 0.4354 - accuracy: 0.8707 - val_loss: 0.5017 - val_accuracy: 0.8523\n",
      "Epoch 20/100\n",
      "125/125 [==============================] - 1s 12ms/step - loss: 0.4276 - accuracy: 0.8729 - val_loss: 0.4974 - val_accuracy: 0.8555\n",
      "Epoch 21/100\n",
      "125/125 [==============================] - 1s 11ms/step - loss: 0.4197 - accuracy: 0.8748 - val_loss: 0.4888 - val_accuracy: 0.8560\n",
      "Epoch 22/100\n",
      "125/125 [==============================] - 1s 11ms/step - loss: 0.4126 - accuracy: 0.8769 - val_loss: 0.4872 - val_accuracy: 0.8577\n",
      "Epoch 23/100\n",
      "125/125 [==============================] - 1s 11ms/step - loss: 0.4059 - accuracy: 0.8791 - val_loss: 0.4903 - val_accuracy: 0.8569\n",
      "Epoch 24/100\n",
      "125/125 [==============================] - 1s 12ms/step - loss: 0.3996 - accuracy: 0.8808 - val_loss: 0.4740 - val_accuracy: 0.8603\n",
      "Epoch 25/100\n",
      "125/125 [==============================] - 1s 12ms/step - loss: 0.3924 - accuracy: 0.8830 - val_loss: 0.4715 - val_accuracy: 0.8617\n",
      "Epoch 26/100\n",
      "125/125 [==============================] - 2s 14ms/step - loss: 0.3867 - accuracy: 0.8844 - val_loss: 0.4728 - val_accuracy: 0.8611\n",
      "Epoch 27/100\n",
      "125/125 [==============================] - 1s 11ms/step - loss: 0.3807 - accuracy: 0.8861 - val_loss: 0.4627 - val_accuracy: 0.8642\n",
      "Epoch 28/100\n",
      "125/125 [==============================] - 1s 12ms/step - loss: 0.3754 - accuracy: 0.8876 - val_loss: 0.4562 - val_accuracy: 0.8664\n",
      "Epoch 29/100\n",
      "125/125 [==============================] - 1s 11ms/step - loss: 0.3696 - accuracy: 0.8895 - val_loss: 0.4546 - val_accuracy: 0.8670\n",
      "Epoch 30/100\n",
      "125/125 [==============================] - 1s 12ms/step - loss: 0.3641 - accuracy: 0.8910 - val_loss: 0.4533 - val_accuracy: 0.8677\n",
      "Epoch 31/100\n",
      "125/125 [==============================] - 1s 12ms/step - loss: 0.3590 - accuracy: 0.8925 - val_loss: 0.4510 - val_accuracy: 0.8687\n",
      "Epoch 32/100\n",
      "125/125 [==============================] - 1s 11ms/step - loss: 0.3542 - accuracy: 0.8940 - val_loss: 0.4502 - val_accuracy: 0.8691\n",
      "Epoch 33/100\n",
      "125/125 [==============================] - 1s 11ms/step - loss: 0.3489 - accuracy: 0.8951 - val_loss: 0.4487 - val_accuracy: 0.8685\n",
      "Epoch 34/100\n",
      "125/125 [==============================] - 2s 14ms/step - loss: 0.3440 - accuracy: 0.8968 - val_loss: 0.4441 - val_accuracy: 0.8697\n",
      "Epoch 35/100\n",
      "125/125 [==============================] - 2s 13ms/step - loss: 0.3396 - accuracy: 0.8984 - val_loss: 0.4398 - val_accuracy: 0.8713\n",
      "Epoch 36/100\n",
      "125/125 [==============================] - 1s 11ms/step - loss: 0.3350 - accuracy: 0.8993 - val_loss: 0.4389 - val_accuracy: 0.8711\n",
      "Epoch 37/100\n",
      "125/125 [==============================] - 1s 12ms/step - loss: 0.3298 - accuracy: 0.9012 - val_loss: 0.4422 - val_accuracy: 0.8722\n",
      "Epoch 38/100\n",
      "125/125 [==============================] - 1s 11ms/step - loss: 0.3257 - accuracy: 0.9023 - val_loss: 0.4388 - val_accuracy: 0.8724\n",
      "Epoch 39/100\n",
      "125/125 [==============================] - 1s 12ms/step - loss: 0.3215 - accuracy: 0.9037 - val_loss: 0.4357 - val_accuracy: 0.8733\n",
      "Epoch 40/100\n",
      "125/125 [==============================] - 1s 12ms/step - loss: 0.3169 - accuracy: 0.9051 - val_loss: 0.4353 - val_accuracy: 0.8737\n",
      "Epoch 41/100\n",
      "125/125 [==============================] - 1s 12ms/step - loss: 0.3129 - accuracy: 0.9062 - val_loss: 0.4369 - val_accuracy: 0.8737\n",
      "Epoch 42/100\n",
      "125/125 [==============================] - 1s 12ms/step - loss: 0.3086 - accuracy: 0.9078 - val_loss: 0.4378 - val_accuracy: 0.8730\n",
      "Epoch 43/100\n",
      "125/125 [==============================] - 2s 13ms/step - loss: 0.3044 - accuracy: 0.9087 - val_loss: 0.4355 - val_accuracy: 0.8738\n",
      "Epoch 44/100\n",
      "125/125 [==============================] - 1s 11ms/step - loss: 0.3004 - accuracy: 0.9100 - val_loss: 0.4314 - val_accuracy: 0.8751\n",
      "Epoch 45/100\n",
      "125/125 [==============================] - 1s 12ms/step - loss: 0.2963 - accuracy: 0.9114 - val_loss: 0.4308 - val_accuracy: 0.8765\n",
      "Epoch 46/100\n",
      "125/125 [==============================] - 1s 11ms/step - loss: 0.2924 - accuracy: 0.9123 - val_loss: 0.4327 - val_accuracy: 0.8760\n",
      "Epoch 47/100\n",
      "125/125 [==============================] - 1s 11ms/step - loss: 0.2882 - accuracy: 0.9137 - val_loss: 0.4341 - val_accuracy: 0.8749\n",
      "Epoch 48/100\n",
      "125/125 [==============================] - 1s 11ms/step - loss: 0.2848 - accuracy: 0.9146 - val_loss: 0.4305 - val_accuracy: 0.8769\n",
      "Epoch 49/100\n",
      "125/125 [==============================] - 1s 10ms/step - loss: 0.2806 - accuracy: 0.9161 - val_loss: 0.4324 - val_accuracy: 0.8760\n",
      "Epoch 50/100\n",
      "125/125 [==============================] - 1s 11ms/step - loss: 0.2772 - accuracy: 0.9169 - val_loss: 0.4313 - val_accuracy: 0.8767\n",
      "Epoch 51/100\n",
      "125/125 [==============================] - 2s 13ms/step - loss: 0.2732 - accuracy: 0.9179 - val_loss: 0.4326 - val_accuracy: 0.8765\n",
      "Epoch 52/100\n",
      "125/125 [==============================] - 2s 12ms/step - loss: 0.2708 - accuracy: 0.9188 - val_loss: 0.4330 - val_accuracy: 0.8768\n",
      "Epoch 53/100\n",
      "125/125 [==============================] - 1s 12ms/step - loss: 0.2665 - accuracy: 0.9199 - val_loss: 0.4298 - val_accuracy: 0.8775\n",
      "Epoch 54/100\n",
      "125/125 [==============================] - 1s 12ms/step - loss: 0.2629 - accuracy: 0.9209 - val_loss: 0.4321 - val_accuracy: 0.8780\n",
      "Epoch 55/100\n",
      "125/125 [==============================] - 1s 12ms/step - loss: 0.2597 - accuracy: 0.9220 - val_loss: 0.4364 - val_accuracy: 0.8759\n",
      "Epoch 56/100\n",
      "125/125 [==============================] - 1s 12ms/step - loss: 0.2567 - accuracy: 0.9226 - val_loss: 0.4341 - val_accuracy: 0.8773\n",
      "Epoch 57/100\n",
      "125/125 [==============================] - 1s 11ms/step - loss: 0.2528 - accuracy: 0.9240 - val_loss: 0.4359 - val_accuracy: 0.8764\n",
      "Epoch 58/100\n",
      "125/125 [==============================] - 1s 11ms/step - loss: 0.2494 - accuracy: 0.9251 - val_loss: 0.4338 - val_accuracy: 0.8785\n",
      "Epoch 59/100\n",
      "125/125 [==============================] - 2s 12ms/step - loss: 0.2463 - accuracy: 0.9258 - val_loss: 0.4347 - val_accuracy: 0.8788\n",
      "Epoch 60/100\n",
      "125/125 [==============================] - 2s 13ms/step - loss: 0.2433 - accuracy: 0.9270 - val_loss: 0.4342 - val_accuracy: 0.8783\n",
      "Epoch 61/100\n",
      "125/125 [==============================] - 1s 11ms/step - loss: 0.2413 - accuracy: 0.9275 - val_loss: 0.4329 - val_accuracy: 0.8794\n",
      "Epoch 62/100\n",
      "125/125 [==============================] - 1s 11ms/step - loss: 0.2367 - accuracy: 0.9289 - val_loss: 0.4355 - val_accuracy: 0.8793\n",
      "Epoch 63/100\n",
      "125/125 [==============================] - 1s 12ms/step - loss: 0.2338 - accuracy: 0.9298 - val_loss: 0.4393 - val_accuracy: 0.8797\n",
      "Epoch 64/100\n",
      "125/125 [==============================] - 1s 11ms/step - loss: 0.2311 - accuracy: 0.9304 - val_loss: 0.4431 - val_accuracy: 0.8783\n",
      "Epoch 65/100\n",
      "125/125 [==============================] - 1s 11ms/step - loss: 0.2282 - accuracy: 0.9312 - val_loss: 0.4393 - val_accuracy: 0.8793\n",
      "Epoch 66/100\n",
      "125/125 [==============================] - 1s 11ms/step - loss: 0.2249 - accuracy: 0.9324 - val_loss: 0.4399 - val_accuracy: 0.8791\n",
      "Epoch 67/100\n",
      "125/125 [==============================] - 1s 11ms/step - loss: 0.2215 - accuracy: 0.9335 - val_loss: 0.4441 - val_accuracy: 0.8797\n",
      "Epoch 68/100\n",
      "125/125 [==============================] - 2s 13ms/step - loss: 0.2189 - accuracy: 0.9341 - val_loss: 0.4475 - val_accuracy: 0.8789\n",
      "Epoch 69/100\n",
      "125/125 [==============================] - 2s 12ms/step - loss: 0.2166 - accuracy: 0.9347 - val_loss: 0.4458 - val_accuracy: 0.8795\n",
      "Epoch 70/100\n",
      "125/125 [==============================] - 1s 11ms/step - loss: 0.2129 - accuracy: 0.9358 - val_loss: 0.4464 - val_accuracy: 0.8791\n",
      "Epoch 71/100\n",
      "125/125 [==============================] - 1s 11ms/step - loss: 0.2102 - accuracy: 0.9369 - val_loss: 0.4497 - val_accuracy: 0.8787\n",
      "Epoch 72/100\n",
      "125/125 [==============================] - 1s 11ms/step - loss: 0.2077 - accuracy: 0.9372 - val_loss: 0.4510 - val_accuracy: 0.8786\n",
      "Epoch 73/100\n",
      "125/125 [==============================] - 1s 11ms/step - loss: 0.2053 - accuracy: 0.9380 - val_loss: 0.4573 - val_accuracy: 0.8777\n",
      "Epoch 74/100\n",
      "125/125 [==============================] - 1s 11ms/step - loss: 0.2026 - accuracy: 0.9389 - val_loss: 0.4555 - val_accuracy: 0.8786\n",
      "Epoch 75/100\n",
      "125/125 [==============================] - 1s 11ms/step - loss: 0.1996 - accuracy: 0.9396 - val_loss: 0.4544 - val_accuracy: 0.8791\n",
      "Epoch 76/100\n",
      "125/125 [==============================] - 1s 12ms/step - loss: 0.1974 - accuracy: 0.9404 - val_loss: 0.4544 - val_accuracy: 0.8801\n",
      "Epoch 77/100\n",
      "125/125 [==============================] - 2s 14ms/step - loss: 0.1944 - accuracy: 0.9413 - val_loss: 0.4583 - val_accuracy: 0.8797\n",
      "Epoch 78/100\n",
      "125/125 [==============================] - 2s 12ms/step - loss: 0.1919 - accuracy: 0.9422 - val_loss: 0.4607 - val_accuracy: 0.8797\n",
      "Epoch 79/100\n",
      "125/125 [==============================] - 1s 12ms/step - loss: 0.1894 - accuracy: 0.9427 - val_loss: 0.4649 - val_accuracy: 0.8791\n",
      "Epoch 80/100\n",
      "125/125 [==============================] - 1s 12ms/step - loss: 0.1870 - accuracy: 0.9434 - val_loss: 0.4713 - val_accuracy: 0.8781\n",
      "Epoch 81/100\n",
      "125/125 [==============================] - 1s 11ms/step - loss: 0.1847 - accuracy: 0.9441 - val_loss: 0.4694 - val_accuracy: 0.8792\n",
      "Epoch 82/100\n",
      "125/125 [==============================] - 1s 11ms/step - loss: 0.1821 - accuracy: 0.9451 - val_loss: 0.4708 - val_accuracy: 0.8794\n",
      "Epoch 83/100\n",
      "125/125 [==============================] - 1s 11ms/step - loss: 0.1803 - accuracy: 0.9454 - val_loss: 0.4732 - val_accuracy: 0.8782\n",
      "Epoch 84/100\n",
      "125/125 [==============================] - 1s 11ms/step - loss: 0.1778 - accuracy: 0.9460 - val_loss: 0.4742 - val_accuracy: 0.8793\n",
      "Epoch 85/100\n",
      "125/125 [==============================] - 2s 13ms/step - loss: 0.1754 - accuracy: 0.9470 - val_loss: 0.4744 - val_accuracy: 0.8798\n",
      "Epoch 86/100\n",
      "125/125 [==============================] - 2s 13ms/step - loss: 0.1732 - accuracy: 0.9475 - val_loss: 0.4789 - val_accuracy: 0.8782\n",
      "Epoch 87/100\n",
      "125/125 [==============================] - 1s 12ms/step - loss: 0.1711 - accuracy: 0.9481 - val_loss: 0.4774 - val_accuracy: 0.8790\n",
      "Epoch 88/100\n",
      "125/125 [==============================] - 2s 12ms/step - loss: 0.1689 - accuracy: 0.9488 - val_loss: 0.4844 - val_accuracy: 0.8777\n",
      "Epoch 89/100\n",
      "125/125 [==============================] - 1s 11ms/step - loss: 0.1669 - accuracy: 0.9494 - val_loss: 0.4817 - val_accuracy: 0.8798\n",
      "Epoch 90/100\n",
      "125/125 [==============================] - 1s 11ms/step - loss: 0.1644 - accuracy: 0.9500 - val_loss: 0.4885 - val_accuracy: 0.8789\n",
      "Epoch 91/100\n",
      "125/125 [==============================] - 1s 11ms/step - loss: 0.1622 - accuracy: 0.9508 - val_loss: 0.4869 - val_accuracy: 0.8796\n",
      "Epoch 92/100\n",
      "125/125 [==============================] - 1s 12ms/step - loss: 0.1601 - accuracy: 0.9513 - val_loss: 0.4904 - val_accuracy: 0.8794\n",
      "Epoch 93/100\n",
      "125/125 [==============================] - 2s 12ms/step - loss: 0.1578 - accuracy: 0.9520 - val_loss: 0.4916 - val_accuracy: 0.8793\n",
      "Epoch 94/100\n",
      "125/125 [==============================] - 2s 13ms/step - loss: 0.1565 - accuracy: 0.9525 - val_loss: 0.4974 - val_accuracy: 0.8786\n",
      "Epoch 95/100\n",
      "125/125 [==============================] - 1s 11ms/step - loss: 0.1542 - accuracy: 0.9530 - val_loss: 0.4994 - val_accuracy: 0.8783\n",
      "Epoch 96/100\n",
      "125/125 [==============================] - 1s 11ms/step - loss: 0.1521 - accuracy: 0.9536 - val_loss: 0.5016 - val_accuracy: 0.8781\n",
      "Epoch 97/100\n",
      "125/125 [==============================] - 1s 11ms/step - loss: 0.1505 - accuracy: 0.9542 - val_loss: 0.5008 - val_accuracy: 0.8783\n",
      "Epoch 98/100\n",
      "125/125 [==============================] - 2s 12ms/step - loss: 0.1487 - accuracy: 0.9546 - val_loss: 0.5044 - val_accuracy: 0.8782\n",
      "Epoch 99/100\n",
      "125/125 [==============================] - 1s 11ms/step - loss: 0.1465 - accuracy: 0.9551 - val_loss: 0.5086 - val_accuracy: 0.8776\n",
      "Epoch 100/100\n",
      "125/125 [==============================] - 1s 11ms/step - loss: 0.1453 - accuracy: 0.9557 - val_loss: 0.5090 - val_accuracy: 0.8784\n"
     ]
    },
    {
     "data": {
      "text/plain": [
       "<keras.callbacks.History at 0x7fcb70045630>"
      ]
     },
     "execution_count": 10,
     "metadata": {},
     "output_type": "execute_result"
    }
   ],
   "source": [
    "# Run training\n",
    "model.compile(optimizer='rmsprop', loss='categorical_crossentropy', metrics = [\"accuracy\"])\n",
    "model.fit([encoder_input_data, decoder_input_data], decoder_target_data,\n",
    "          batch_size=batch_size,\n",
    "          epochs=epochs,\n",
    "          validation_split=0.2)"
   ]
  },
  {
   "cell_type": "markdown",
   "metadata": {
    "id": "lQz2tYKonUYw"
   },
   "source": [
    "## **Inference Stage**\n",
    "\n",
    "We have to manually perform inference because, our model had teacher forcing during Training. However, in the Inference Stage, we have to use the output of the previous timestep as the input for next timestep."
   ]
  },
  {
   "cell_type": "code",
   "execution_count": 11,
   "metadata": {
    "id": "A8DasFAT4YTA"
   },
   "outputs": [],
   "source": [
    "from keras import Model\n",
    "from keras.layers import Input"
   ]
  },
  {
   "cell_type": "code",
   "execution_count": 12,
   "metadata": {
    "id": "JyDoUaEDdu6G"
   },
   "outputs": [],
   "source": [
    "# Manually deriving the decoder states and decoder outputs so that we can reuse decoder outputs as inputs for next step\n",
    "encoder_model = Model(encoder_inputs, encoder_states)\n",
    "\n",
    "decoder_state_input_h = Input(shape=(latent_dim,))\n",
    "decoder_state_input_c = Input(shape=(latent_dim,))\n",
    "decoder_states_inputs = [decoder_state_input_h, decoder_state_input_c]\n",
    "decoder_outputs, state_h, state_c = decoder_lstm(\n",
    "    decoder_inputs, initial_state=decoder_states_inputs)\n",
    "decoder_states = [state_h, state_c]\n",
    "decoder_outputs = decoder_dense(decoder_outputs)\n",
    "decoder_model = Model(\n",
    "    [decoder_inputs] + decoder_states_inputs,\n",
    "    [decoder_outputs] + decoder_states)"
   ]
  },
  {
   "cell_type": "code",
   "execution_count": 13,
   "metadata": {
    "id": "NxzscVGIjgqR"
   },
   "outputs": [],
   "source": [
    "# Mapping between integers or indexes and characters.\n",
    "reverse_input_char_index = dict((i, char) for char, i in input_token_index.items())\n",
    "reverse_target_char_index = dict((i, char) for char, i in target_token_index.items())"
   ]
  },
  {
   "cell_type": "code",
   "execution_count": 14,
   "metadata": {
    "id": "_Az5ZhvbgHQy"
   },
   "outputs": [],
   "source": [
    "# decoding the output sentence from output tokenized data\n",
    "def decode_sequence(input_seq):\n",
    "    # Encode the input as state vectors.\n",
    "    states_value = encoder_model.predict(input_seq)\n",
    "\n",
    "    # Generate empty target sequence of length 1.\n",
    "    target_seq = np.zeros((1, 1, num_decoder_tokens))\n",
    "    # Populate the firhttps://colab.research.google.com/drive/1POsKAPn78VkMMTseSTQm1w7a8RsrTa-W#scrollTo=_Az5ZhvbgHQyst character of target sequence with the start character.\n",
    "    target_seq[0, 0, target_token_index[\"\\t\"]] = 1.0\n",
    "\n",
    "    # Sampling loop for a batch of sequences\n",
    "    # (to simplify, here we assume a batch of size 1).\n",
    "    stop_condition = False\n",
    "    decoded_sentence = \"\"\n",
    "    while not stop_condition:\n",
    "        output_tokens, h, c = decoder_model.predict([target_seq] + states_value)\n",
    "\n",
    "        # Sample a token\n",
    "        sampled_token_index = np.argmax(output_tokens[0, -1, :])\n",
    "        sampled_char = reverse_target_char_index[sampled_token_index]\n",
    "        decoded_sentence += sampled_char\n",
    "\n",
    "        # Exit condition: either hit max length\n",
    "        # or find stop character.\n",
    "        if sampled_char == \"\\n\" or len(decoded_sentence) > max_decoder_seq_length:\n",
    "            stop_condition = True\n",
    "\n",
    "        # Update the target sequence (of length 1).\n",
    "        target_seq = np.zeros((1, 1, num_decoder_tokens))\n",
    "        target_seq[0, 0, sampled_token_index] = 1.0\n",
    "\n",
    "        # Update states\n",
    "        states_value = [h, c]\n",
    "    return decoded_sentence\n",
    "\n"
   ]
  },
  {
   "cell_type": "markdown",
   "metadata": {
    "id": "6p_z1Rtf_ZoH"
   },
   "source": [
    "- states_value is obtained by encoding the input sequence using the encoder_model.\n",
    "\n",
    "- An empty target sequence of length 1 is generated.\n",
    "\n",
    "- The first character of the target sequence is populated with the start character.\n",
    "\n",
    "- A sampling loop is initiated to generate the output tokens for the sequence. It continues until a stop condition is met, which can be either reaching the maximum length or encountering the stop character.\n",
    "\n",
    "- In each iteration of the loop, the decoder_model predicts the output tokens and the corresponding hidden states (h and c). The output_tokens represent the probabilities of each token in the output sequence.\n",
    "\n",
    "- The token with the highest probability is selected as the sampled token, and the corresponding character is retrieved using reverse_target_char_index.\n",
    "\n",
    "- The sampled character is appended to the decoded_sentence.\n",
    "\n",
    "- The loop continues until the stop condition is met.\n",
    "\n",
    "- The target sequence is updated by setting the sampled token as the next input.\n",
    "\n",
    "- The hidden states (h and c) are updated with the new states.\n",
    "\n",
    "- Finally, the decoded_sentence is returned as the output."
   ]
  },
  {
   "cell_type": "markdown",
   "metadata": {
    "id": "NJ75cDuhneT3"
   },
   "source": [
    "## **Testing our Model**"
   ]
  },
  {
   "cell_type": "code",
   "execution_count": 15,
   "metadata": {
    "colab": {
     "base_uri": "https://localhost:8080/"
    },
    "id": "PpwY48VqjD3c",
    "outputId": "043d5778-48b4-41b4-8232-4fb9c430381b"
   },
   "outputs": [
    {
     "name": "stdout",
     "output_type": "stream",
     "text": [
      "1/1 [==============================] - 0s 339ms/step\n",
      "1/1 [==============================] - 0s 404ms/step\n",
      "1/1 [==============================] - 0s 40ms/step\n",
      "1/1 [==============================] - 0s 30ms/step\n",
      "1/1 [==============================] - 0s 29ms/step\n",
      "1/1 [==============================] - 0s 29ms/step\n",
      "1/1 [==============================] - 0s 34ms/step\n",
      "1/1 [==============================] - 0s 38ms/step\n",
      "1/1 [==============================] - 0s 34ms/step\n",
      "1/1 [==============================] - 0s 36ms/step\n",
      "1/1 [==============================] - 0s 30ms/step\n",
      "-\n",
      "Input sentence: Go.\n",
      "Decoded sentence: Compris !\n",
      "\n",
      "1/1 [==============================] - 0s 40ms/step\n",
      "1/1 [==============================] - 0s 30ms/step\n",
      "1/1 [==============================] - 0s 29ms/step\n",
      "1/1 [==============================] - 0s 34ms/step\n",
      "1/1 [==============================] - 0s 30ms/step\n",
      "1/1 [==============================] - 0s 29ms/step\n",
      "1/1 [==============================] - 0s 36ms/step\n",
      "1/1 [==============================] - 0s 33ms/step\n",
      "1/1 [==============================] - 0s 33ms/step\n",
      "1/1 [==============================] - 0s 30ms/step\n",
      "1/1 [==============================] - 0s 33ms/step\n",
      "-\n",
      "Input sentence: Go.\n",
      "Decoded sentence: Compris !\n",
      "\n",
      "1/1 [==============================] - 0s 38ms/step\n",
      "1/1 [==============================] - 0s 29ms/step\n",
      "1/1 [==============================] - 0s 23ms/step\n",
      "1/1 [==============================] - 0s 20ms/step\n",
      "1/1 [==============================] - 0s 22ms/step\n",
      "1/1 [==============================] - 0s 19ms/step\n",
      "1/1 [==============================] - 0s 22ms/step\n",
      "1/1 [==============================] - 0s 22ms/step\n",
      "1/1 [==============================] - 0s 20ms/step\n",
      "1/1 [==============================] - 0s 26ms/step\n",
      "1/1 [==============================] - 0s 21ms/step\n",
      "-\n",
      "Input sentence: Go.\n",
      "Decoded sentence: Compris !\n",
      "\n",
      "1/1 [==============================] - 0s 20ms/step\n",
      "1/1 [==============================] - 0s 21ms/step\n",
      "1/1 [==============================] - 0s 20ms/step\n",
      "1/1 [==============================] - 0s 28ms/step\n",
      "1/1 [==============================] - 0s 21ms/step\n",
      "1/1 [==============================] - 0s 23ms/step\n",
      "1/1 [==============================] - 0s 22ms/step\n",
      "1/1 [==============================] - 0s 20ms/step\n",
      "1/1 [==============================] - 0s 20ms/step\n",
      "1/1 [==============================] - 0s 24ms/step\n",
      "1/1 [==============================] - 0s 20ms/step\n",
      "-\n",
      "Input sentence: Go.\n",
      "Decoded sentence: Compris !\n",
      "\n",
      "1/1 [==============================] - 0s 20ms/step\n",
      "1/1 [==============================] - 0s 21ms/step\n",
      "1/1 [==============================] - 0s 21ms/step\n",
      "1/1 [==============================] - 0s 20ms/step\n",
      "1/1 [==============================] - 0s 18ms/step\n",
      "1/1 [==============================] - 0s 19ms/step\n",
      "1/1 [==============================] - 0s 21ms/step\n",
      "1/1 [==============================] - 0s 21ms/step\n",
      "1/1 [==============================] - 0s 20ms/step\n",
      "-\n",
      "Input sentence: Hi.\n",
      "Decoded sentence: Calle !\n",
      "\n",
      "1/1 [==============================] - 0s 18ms/step\n",
      "1/1 [==============================] - 0s 23ms/step\n",
      "1/1 [==============================] - 0s 23ms/step\n",
      "1/1 [==============================] - 0s 20ms/step\n",
      "1/1 [==============================] - 0s 21ms/step\n",
      "1/1 [==============================] - 0s 19ms/step\n",
      "1/1 [==============================] - 0s 21ms/step\n",
      "1/1 [==============================] - 0s 22ms/step\n",
      "1/1 [==============================] - 0s 21ms/step\n",
      "-\n",
      "Input sentence: Hi.\n",
      "Decoded sentence: Calle !\n",
      "\n",
      "1/1 [==============================] - 0s 19ms/step\n",
      "1/1 [==============================] - 0s 21ms/step\n",
      "1/1 [==============================] - 0s 23ms/step\n",
      "1/1 [==============================] - 0s 20ms/step\n",
      "1/1 [==============================] - 0s 21ms/step\n",
      "1/1 [==============================] - 0s 22ms/step\n",
      "1/1 [==============================] - 0s 19ms/step\n",
      "1/1 [==============================] - 0s 21ms/step\n",
      "1/1 [==============================] - 0s 20ms/step\n",
      "-\n",
      "Input sentence: Run!\n",
      "Decoded sentence: Fuyez !\n",
      "\n",
      "1/1 [==============================] - 0s 18ms/step\n",
      "1/1 [==============================] - 0s 19ms/step\n",
      "1/1 [==============================] - 0s 19ms/step\n",
      "1/1 [==============================] - 0s 19ms/step\n",
      "1/1 [==============================] - 0s 21ms/step\n",
      "1/1 [==============================] - 0s 19ms/step\n",
      "1/1 [==============================] - 0s 22ms/step\n",
      "1/1 [==============================] - 0s 24ms/step\n",
      "1/1 [==============================] - 0s 23ms/step\n",
      "-\n",
      "Input sentence: Run!\n",
      "Decoded sentence: Fuyez !\n",
      "\n",
      "1/1 [==============================] - 0s 18ms/step\n",
      "1/1 [==============================] - 0s 28ms/step\n",
      "1/1 [==============================] - 0s 19ms/step\n",
      "1/1 [==============================] - 0s 20ms/step\n",
      "1/1 [==============================] - 0s 23ms/step\n",
      "1/1 [==============================] - 0s 21ms/step\n",
      "1/1 [==============================] - 0s 31ms/step\n",
      "1/1 [==============================] - 0s 23ms/step\n",
      "1/1 [==============================] - 0s 23ms/step\n",
      "-\n",
      "Input sentence: Run!\n",
      "Decoded sentence: Fuyez !\n",
      "\n",
      "1/1 [==============================] - 0s 18ms/step\n",
      "1/1 [==============================] - 0s 22ms/step\n",
      "1/1 [==============================] - 0s 19ms/step\n",
      "1/1 [==============================] - 0s 20ms/step\n",
      "1/1 [==============================] - 0s 20ms/step\n",
      "1/1 [==============================] - 0s 24ms/step\n",
      "1/1 [==============================] - 0s 20ms/step\n",
      "1/1 [==============================] - 0s 19ms/step\n",
      "1/1 [==============================] - 0s 21ms/step\n",
      "-\n",
      "Input sentence: Run!\n",
      "Decoded sentence: Fuyez !\n",
      "\n",
      "1/1 [==============================] - 0s 17ms/step\n",
      "1/1 [==============================] - 0s 19ms/step\n",
      "1/1 [==============================] - 0s 21ms/step\n",
      "1/1 [==============================] - 0s 20ms/step\n",
      "1/1 [==============================] - 0s 20ms/step\n",
      "1/1 [==============================] - 0s 21ms/step\n",
      "1/1 [==============================] - 0s 25ms/step\n",
      "1/1 [==============================] - 0s 20ms/step\n",
      "1/1 [==============================] - 0s 21ms/step\n",
      "-\n",
      "Input sentence: Run!\n",
      "Decoded sentence: Fuyez !\n",
      "\n",
      "1/1 [==============================] - 0s 20ms/step\n",
      "1/1 [==============================] - 0s 21ms/step\n",
      "1/1 [==============================] - 0s 20ms/step\n",
      "1/1 [==============================] - 0s 23ms/step\n",
      "1/1 [==============================] - 0s 21ms/step\n",
      "1/1 [==============================] - 0s 23ms/step\n",
      "1/1 [==============================] - 0s 21ms/step\n",
      "1/1 [==============================] - 0s 19ms/step\n",
      "1/1 [==============================] - 0s 32ms/step\n",
      "-\n",
      "Input sentence: Run!\n",
      "Decoded sentence: Fuyez !\n",
      "\n",
      "1/1 [==============================] - 0s 18ms/step\n",
      "1/1 [==============================] - 0s 21ms/step\n",
      "1/1 [==============================] - 0s 21ms/step\n",
      "1/1 [==============================] - 0s 20ms/step\n",
      "1/1 [==============================] - 0s 20ms/step\n",
      "1/1 [==============================] - 0s 22ms/step\n",
      "1/1 [==============================] - 0s 20ms/step\n",
      "1/1 [==============================] - 0s 20ms/step\n",
      "1/1 [==============================] - 0s 33ms/step\n",
      "-\n",
      "Input sentence: Run!\n",
      "Decoded sentence: Fuyez !\n",
      "\n",
      "1/1 [==============================] - 0s 21ms/step\n",
      "1/1 [==============================] - 0s 19ms/step\n",
      "1/1 [==============================] - 0s 19ms/step\n",
      "1/1 [==============================] - 0s 23ms/step\n",
      "1/1 [==============================] - 0s 25ms/step\n",
      "1/1 [==============================] - 0s 22ms/step\n",
      "1/1 [==============================] - 0s 23ms/step\n",
      "1/1 [==============================] - 0s 19ms/step\n",
      "1/1 [==============================] - 0s 19ms/step\n",
      "-\n",
      "Input sentence: Run!\n",
      "Decoded sentence: Fuyez !\n",
      "\n",
      "1/1 [==============================] - 0s 18ms/step\n",
      "1/1 [==============================] - 0s 19ms/step\n",
      "1/1 [==============================] - 0s 20ms/step\n",
      "1/1 [==============================] - 0s 21ms/step\n",
      "1/1 [==============================] - 0s 19ms/step\n",
      "1/1 [==============================] - 0s 19ms/step\n",
      "1/1 [==============================] - 0s 22ms/step\n",
      "1/1 [==============================] - 0s 19ms/step\n",
      "1/1 [==============================] - 0s 19ms/step\n",
      "-\n",
      "Input sentence: Run.\n",
      "Decoded sentence: Fuyez !\n",
      "\n",
      "1/1 [==============================] - 0s 18ms/step\n",
      "1/1 [==============================] - 0s 23ms/step\n",
      "1/1 [==============================] - 0s 22ms/step\n",
      "1/1 [==============================] - 0s 20ms/step\n",
      "1/1 [==============================] - 0s 27ms/step\n",
      "1/1 [==============================] - 0s 20ms/step\n",
      "1/1 [==============================] - 0s 21ms/step\n",
      "1/1 [==============================] - 0s 19ms/step\n",
      "1/1 [==============================] - 0s 19ms/step\n",
      "-\n",
      "Input sentence: Run.\n",
      "Decoded sentence: Fuyez !\n",
      "\n",
      "1/1 [==============================] - 0s 18ms/step\n",
      "1/1 [==============================] - 0s 20ms/step\n",
      "1/1 [==============================] - 0s 21ms/step\n",
      "1/1 [==============================] - 0s 23ms/step\n",
      "1/1 [==============================] - 0s 19ms/step\n",
      "1/1 [==============================] - 0s 20ms/step\n",
      "1/1 [==============================] - 0s 19ms/step\n",
      "1/1 [==============================] - 0s 22ms/step\n",
      "1/1 [==============================] - 0s 23ms/step\n",
      "-\n",
      "Input sentence: Run.\n",
      "Decoded sentence: Fuyez !\n",
      "\n",
      "1/1 [==============================] - 0s 18ms/step\n",
      "1/1 [==============================] - 0s 20ms/step\n",
      "1/1 [==============================] - 0s 22ms/step\n",
      "1/1 [==============================] - 0s 19ms/step\n",
      "1/1 [==============================] - 0s 19ms/step\n",
      "1/1 [==============================] - 0s 19ms/step\n",
      "1/1 [==============================] - 0s 21ms/step\n",
      "1/1 [==============================] - 0s 20ms/step\n",
      "1/1 [==============================] - 0s 20ms/step\n",
      "-\n",
      "Input sentence: Run.\n",
      "Decoded sentence: Fuyez !\n",
      "\n",
      "1/1 [==============================] - 0s 18ms/step\n",
      "1/1 [==============================] - 0s 22ms/step\n",
      "1/1 [==============================] - 0s 22ms/step\n",
      "1/1 [==============================] - 0s 19ms/step\n",
      "1/1 [==============================] - 0s 19ms/step\n",
      "1/1 [==============================] - 0s 21ms/step\n",
      "1/1 [==============================] - 0s 30ms/step\n",
      "1/1 [==============================] - 0s 33ms/step\n",
      "1/1 [==============================] - 0s 35ms/step\n",
      "-\n",
      "Input sentence: Run.\n",
      "Decoded sentence: Fuyez !\n",
      "\n",
      "1/1 [==============================] - 0s 25ms/step\n",
      "1/1 [==============================] - 0s 29ms/step\n",
      "1/1 [==============================] - 0s 30ms/step\n",
      "1/1 [==============================] - 0s 30ms/step\n",
      "1/1 [==============================] - 0s 29ms/step\n",
      "1/1 [==============================] - 0s 41ms/step\n",
      "1/1 [==============================] - 0s 34ms/step\n",
      "1/1 [==============================] - 0s 31ms/step\n",
      "1/1 [==============================] - 0s 29ms/step\n",
      "-\n",
      "Input sentence: Run.\n",
      "Decoded sentence: Fuyez !\n",
      "\n"
     ]
    }
   ],
   "source": [
    "for seq_index in range(20):\n",
    "    # Take one sequence (part of the training set)\n",
    "    # for trying out decoding.\n",
    "    input_seq = encoder_input_data[seq_index : seq_index + 1]\n",
    "    decoded_sentence = decode_sequence(input_seq)\n",
    "    print(\"-\")\n",
    "    print(\"Input sentence:\", input_texts[seq_index])\n",
    "    print(\"Decoded sentence:\", decoded_sentence)"
   ]
  },
  {
   "cell_type": "markdown",
   "metadata": {
    "id": "6ifRsTyxqAgF"
   },
   "source": [
    "## **Conclusion**\n",
    "\n",
    "- The model is trained on Character basis, therefore the model focuses more on the translatory accuracy of each words,\n",
    "- We can try testing our model over a different range of data. For that we shall need to change the sequence indexes in the iterator for generating these results."
   ]
  }
 ],
 "metadata": {
  "accelerator": "GPU",
  "colab": {
   "provenance": []
  },
  "gpuClass": "standard",
  "kernelspec": {
   "display_name": "Python 3 (ipykernel)",
   "language": "python",
   "name": "python3"
  },
  "language_info": {
   "codemirror_mode": {
    "name": "ipython",
    "version": 3
   },
   "file_extension": ".py",
   "mimetype": "text/x-python",
   "name": "python",
   "nbconvert_exporter": "python",
   "pygments_lexer": "ipython3",
   "version": "3.9.12"
  }
 },
 "nbformat": 4,
 "nbformat_minor": 4
}
